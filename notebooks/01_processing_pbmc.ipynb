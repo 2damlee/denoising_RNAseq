{
 "cells": [
  {
   "cell_type": "markdown",
   "id": "9a5b8e02-7437-4a18-8b4b-dfcc5d0cd6c2",
   "metadata": {},
   "source": [
    "## Download and process for adding sequences to .var"
   ]
  },
  {
   "cell_type": "markdown",
   "id": "4c8c35f4-bda5-4104-b4f9-f91dd7578822",
   "metadata": {},
   "source": [
    "#### Download annData"
   ]
  },
  {
   "cell_type": "code",
   "execution_count": 3,
   "id": "7fb4ae8d-7a05-4bb2-9134-b09cad148dd9",
   "metadata": {},
   "outputs": [
    {
     "name": "stdout",
     "output_type": "stream",
     "text": [
      "--2025-07-04 10:02:29--  https://cf.10xgenomics.com/samples/cell-exp/6.1.0/10k_PBMC_3p_nextgem_Chromium_Controller/10k_PBMC_3p_nextgem_Chromium_Controller_raw_feature_bc_matrix.h5\n",
      "Resolving cf.10xgenomics.com (cf.10xgenomics.com)... 2606:4700::6812:ad, 2606:4700::6812:1ad, 104.18.1.173, ...\n",
      "Connecting to cf.10xgenomics.com (cf.10xgenomics.com)|2606:4700::6812:ad|:443... connected.\n",
      "HTTP request sent, awaiting response... 200 OK\n",
      "Length: 55493959 (53M) [binary/octet-stream]\n",
      "Saving to: ‘10k_PBMC_3p_nextgem_Chromium_Controller_raw_feature_bc_matrix.h5’\n",
      "\n",
      "10k_PBMC_3p_nextgem 100%[===================>]  52.92M  14.0MB/s    in 3.8s    \n",
      "\n",
      "2025-07-04 10:02:34 (14.0 MB/s) - ‘10k_PBMC_3p_nextgem_Chromium_Controller_raw_feature_bc_matrix.h5’ saved [55493959/55493959]\n",
      "\n",
      "--2025-07-04 10:02:34--  https://cf.10xgenomics.com/samples/cell-exp/6.1.0/10k_PBMC_3p_nextgem_Chromium_Controller/10k_PBMC_3p_nextgem_Chromium_Controller_molecule_info.h5\n",
      "Resolving cf.10xgenomics.com (cf.10xgenomics.com)... 2606:4700::6812:1ad, 2606:4700::6812:ad, 104.18.0.173, ...\n",
      "Connecting to cf.10xgenomics.com (cf.10xgenomics.com)|2606:4700::6812:1ad|:443... connected.\n",
      "HTTP request sent, awaiting response... 200 OK\n",
      "Length: 350216323 (334M) [binary/octet-stream]\n",
      "Saving to: ‘10k_PBMC_3p_nextgem_Chromium_Controller_molecule_info.h5’\n",
      "\n",
      "10k_PBMC_3p_nextgem 100%[===================>] 333.99M  16.8MB/s    in 18s     \n",
      "\n",
      "2025-07-04 10:02:53 (18.1 MB/s) - ‘10k_PBMC_3p_nextgem_Chromium_Controller_molecule_info.h5’ saved [350216323/350216323]\n",
      "\n"
     ]
    }
   ],
   "source": [
    "# Data download\n",
    "!wget https://cf.10xgenomics.com/samples/cell-exp/6.1.0/10k_PBMC_3p_nextgem_Chromium_Controller/10k_PBMC_3p_nextgem_Chromium_Controller_raw_feature_bc_matrix.h5\n",
    "!wget https://cf.10xgenomics.com/samples/cell-exp/6.1.0/10k_PBMC_3p_nextgem_Chromium_Controller/10k_PBMC_3p_nextgem_Chromium_Controller_molecule_info.h5"
   ]
  },
  {
   "cell_type": "markdown",
   "id": "f5c81a3e-9171-4648-8134-298679902c20",
   "metadata": {},
   "source": [
    "#### Run preprocessing script"
   ]
  },
  {
   "cell_type": "code",
   "execution_count": null,
   "id": "ef8b54fc-7150-470f-a5f5-10ff69d74809",
   "metadata": {},
   "outputs": [],
   "source": [
    "import os\n",
    "import sys\n",
    "import pandas as pd\n",
    "import scanpy as sc\n",
    "import matplotlib.pyplot as plt\n",
    "import seaborn as sns\n",
    "\n",
    "# Add scripts directory to Python path\n",
    "script_path = os.path.abspath(\"../scripts\")\n",
    "if script_path not in sys.path:\n",
    "    sys.path.append(script_path)\n",
    "\n",
    "# Import your functions\n",
    "from preprocess_pbmc import preprocess_pbmc\n",
    "from build_tcga_anndata import (\n",
    "    fetch_mapping_from_manifest,\n",
    "    merge_counts_with_mapping,\n",
    "    parse_clinical_xml,\n",
    "    match_and_save\n",
    ")\n",
    "from download_tcga_data import (\n",
    "    query_gdc_files,\n",
    "    download_manifest,\n",
    "    run_gdc_client\n",
    ")\n",
    "from annotate_gene_sequences import annotate_sequences_to_adata\n",
    "\n",
    "# Run PBMC preprocessing\n",
    "input_h5 = \"../../data/raw/10k_PBMC_3p_nextgem_Chromium_Controller_raw_feature_bc_matrix.h5\"\n",
    "fasta = \"../../data/gencode/gencode.v43.transcripts.fa\"\n",
    "output = \"../../data/processed/pbmc/pbmc_10k_preprocessed_with_obs.h5ad\""
   ]
  },
  {
   "cell_type": "code",
   "execution_count": null,
   "id": "870ab03e-35e6-40bc-a02c-4eea017af1f6",
   "metadata": {},
   "outputs": [],
   "source": [
    "preprocess_pbmc(input_h5, fasta, output)"
   ]
  },
  {
   "cell_type": "markdown",
   "id": "f096961f-b249-4bbe-9fa0-9168a700ecdc",
   "metadata": {},
   "source": [
    "#### Load the result"
   ]
  },
  {
   "cell_type": "code",
   "execution_count": 2,
   "id": "c8951415-b08d-4c97-9e0b-d6fd71549e9c",
   "metadata": {},
   "outputs": [
    {
     "data": {
      "text/plain": [
       "AnnData object with n_obs × n_vars = 2099284 × 36601\n",
       "    obs: 'source', 'batch', 'mt_frac', 'n_counts', 'n_genes', 'cell_id'\n",
       "    var: 'gene_ids', 'feature_types', 'genome', 'gene_id_clean', 'sequence'"
      ]
     },
     "execution_count": 2,
     "metadata": {},
     "output_type": "execute_result"
    }
   ],
   "source": [
    "import scanpy as sc\n",
    "import pandas as pd\n",
    "import numpy as np\n",
    "from scipy.sparse import issparse\n",
    "\n",
    "adata = sc.read_h5ad(\"../data/processed/pbmc/pbmc_10k_preprocessed_with_obs.h5ad\")\n",
    "adata"
   ]
  },
  {
   "cell_type": "markdown",
   "id": "be9f8745-1ac7-4632-848b-1ca474adfd91",
   "metadata": {},
   "source": [
    "#### Inspect .X, .obs, .var"
   ]
  },
  {
   "cell_type": "code",
   "execution_count": 3,
   "id": "f1e1a6d1-1892-415c-a245-932d2c38165c",
   "metadata": {},
   "outputs": [
    {
     "name": "stdout",
     "output_type": "stream",
     "text": [
      ">>> .X (expression matrix):\n",
      "Shape: (2099284, 36601)\n",
      "Sparse Type: <class 'scipy.sparse._csr.csr_matrix'>\n",
      "Non-zero Elements: 27687445\n",
      "Mean expression of first 5 genes: [0.0000000e+00 0.0000000e+00 0.0000000e+00 1.4766945e-05 4.7635288e-07]\n",
      "\n",
      ">>> .obs:\n",
      "                     source    batch  mt_frac  n_counts  n_genes  \\\n",
      "AAACCCAAGAAACCAT-1  PBMC10k  PBMC10k      NaN       0.0        0   \n",
      "AAACCCAAGAAACCCA-1  PBMC10k  PBMC10k      0.0       1.0        1   \n",
      "AAACCCAAGAAACCCG-1  PBMC10k  PBMC10k      NaN       0.0        0   \n",
      "AAACCCAAGAAACTAC-1  PBMC10k  PBMC10k      0.0       1.0        1   \n",
      "AAACCCAAGAAACTCA-1  PBMC10k  PBMC10k      0.0       2.0        2   \n",
      "\n",
      "                               cell_id  \n",
      "AAACCCAAGAAACCAT-1  AAACCCAAGAAACCAT-1  \n",
      "AAACCCAAGAAACCCA-1  AAACCCAAGAAACCCA-1  \n",
      "AAACCCAAGAAACCCG-1  AAACCCAAGAAACCCG-1  \n",
      "AAACCCAAGAAACTAC-1  AAACCCAAGAAACTAC-1  \n",
      "AAACCCAAGAAACTCA-1  AAACCCAAGAAACTCA-1  \n",
      "\n",
      ">>> .var:\n",
      "               gene_id_clean  \\\n",
      "index                          \n",
      "MIR1302-2HG  ENSG00000243485   \n",
      "FAM138A      ENSG00000237613   \n",
      "OR4F5        ENSG00000186092   \n",
      "AL627309.1   ENSG00000238009   \n",
      "AL627309.3   ENSG00000239945   \n",
      "\n",
      "                                                      sequence  \n",
      "index                                                           \n",
      "MIR1302-2HG  TCATCAGTCCAAAGTCCAGCAGTTGTCCCTCCTGGAATCCGTTGGC...  \n",
      "FAM138A      GGGGTTTCGGGGCTGTGGACCCTGTGCCAGGAAAGGAAGGGCGCAG...  \n",
      "OR4F5        CCCAGATCTCTTCAGTTTTTATGCCTCATTCTGTGAAAATTGCTGT...  \n",
      "AL627309.1   GAAGATCCGTGAGGTGCCCAGAAGATCATGCAGTCATCAGTCCCAC...  \n",
      "AL627309.3   TCAGCCTCCCAAGTAGCTGGGGCTACAGGCACCTGCCACCAAACCC...  \n",
      "Missing sequences in `.var['sequence']`: 224 / 36601\n"
     ]
    }
   ],
   "source": [
    "import scipy.sparse as sp\n",
    "\n",
    "print(\">>> .X (expression matrix):\")\n",
    "print(\"Shape:\", adata.shape)\n",
    "print(\"Sparse Type:\", type(adata.X))\n",
    "print(\"Non-zero Elements:\", adata.X.nnz if sp.issparse(adata.X) else np.count_nonzero(adata.X))\n",
    "mean_expr = adata.X[:, :5].mean(axis=0).A1 if sp.issparse(adata.X) else adata.X[:, :5].mean(axis=0)\n",
    "print(\"Mean expression of first 5 genes:\", mean_expr)\n",
    "\n",
    "print(\"\\n>>> .obs:\")\n",
    "print(adata.obs.head())\n",
    "\n",
    "print(\"\\n>>> .var:\")\n",
    "print(adata.var[[\"gene_id_clean\", \"sequence\"]].head())\n",
    "missing = adata.var[\"sequence\"].isnull().sum() + (adata.var[\"sequence\"] == \"\").sum()\n",
    "print(f\"Missing sequences in `.var['sequence']`: {missing} / {adata.var.shape[0]}\")"
   ]
  },
  {
   "cell_type": "markdown",
   "id": "76013191-5ec0-45bd-82c3-e9e4e11f8265",
   "metadata": {},
   "source": [
    "#### Inspect gene ID structure"
   ]
  },
  {
   "cell_type": "code",
   "execution_count": 3,
   "id": "2d8793ce-381c-43c5-b2c8-45cae6b14d90",
   "metadata": {},
   "outputs": [
    {
     "name": "stdout",
     "output_type": "stream",
     "text": [
      "PBMC: .var index: ['MIR1302-2HG', 'FAM138A', 'OR4F5', 'AL627309.1', 'AL627309.3']\n",
      "PBMC: .var['gene_id_clean']: ['ENSG00000243485' 'ENSG00000237613' 'ENSG00000186092' 'ENSG00000238009'\n",
      " 'ENSG00000239945']\n",
      "PBMC: .var['gene_ids'] sample:\n",
      "['ENSG00000243485' 'ENSG00000237613' 'ENSG00000186092' 'ENSG00000238009'\n",
      " 'ENSG00000239945']\n"
     ]
    }
   ],
   "source": [
    "print(\"PBMC: .var index:\", adata.var.index[:5].tolist())\n",
    "print(\"PBMC: .var['gene_id_clean']:\", adata.var['gene_id_clean'].unique()[:5])\n",
    "if \"gene_ids\" in adata.var.columns:\n",
    "    print(\"PBMC: .var['gene_ids'] sample:\")\n",
    "    print(adata.var['gene_ids'].explode().unique()[:5])"
   ]
  },
  {
   "cell_type": "code",
   "execution_count": 4,
   "id": "27cf3599-ea5b-438d-876a-134d3eb6f260",
   "metadata": {},
   "outputs": [
    {
     "name": "stdout",
     "output_type": "stream",
     "text": [
      "percent_mito stats: count    1.405809e+06\n",
      "mean     1.073385e+01\n",
      "std      2.805740e+01\n",
      "min      0.000000e+00\n",
      "25%      0.000000e+00\n",
      "50%      0.000000e+00\n",
      "75%      0.000000e+00\n",
      "max      1.000000e+02\n",
      "Name: pct_counts_mt, dtype: float64\n"
     ]
    }
   ],
   "source": [
    "adata.var['mt'] = adata.var_names.str.startswith('MT-')\n",
    "sc.pp.calculate_qc_metrics(adata, qc_vars=['mt'], inplace=True)\n",
    "print(\"percent_mito stats:\", adata.obs['pct_counts_mt'].describe())"
   ]
  },
  {
   "cell_type": "markdown",
   "id": "65a7e592-7b97-45ce-8c17-4d4cbd713bc7",
   "metadata": {},
   "source": [
    "### Normalization "
   ]
  },
  {
   "cell_type": "code",
   "execution_count": null,
   "id": "06b288a4-8b15-4d29-ae06-9383ceaf49b8",
   "metadata": {},
   "outputs": [
    {
     "name": "stdout",
     "output_type": "stream",
     "text": [
      "Original shape: (2099284, 36601)\n"
     ]
    },
    {
     "name": "stderr",
     "output_type": "stream",
     "text": [
      "/home/ubuntu/.local/lib/python3.10/site-packages/legacy_api_wrap/__init__.py:82: UserWarning: Some cells have zero counts\n",
      "  return fn(*args_all, **kw)\n"
     ]
    }
   ],
   "source": [
    "import scanpy as sc\n",
    "import os\n",
    "\n",
    "# Input & Output\n",
    "input_path = \"../data/processed/pbmc/pbmc_10k_preprocessed_with_obs.h5ad\"\n",
    "output_path = \"../data/processed/pbmc/pbmc_10k_normalized.h5ad\"\n",
    "\n",
    "# Load AnnData\n",
    "adata = sc.read_h5ad(input_path)\n",
    "print(f\"Original shape: {adata.shape}\")\n",
    "\n",
    "# 1. Ensure float\n",
    "adata.X = adata.X.astype(\"float32\")\n",
    "\n",
    "# 2. Backup raw counts\n",
    "adata.layers[\"counts\"] = adata.X.copy()\n",
    "\n",
    "# 3. Normalize per cell (library size)\n",
    "sc.pp.normalize_total(adata, target_sum=1e4)  # 10k often used for single-cell / Library size normalization + log transform\n",
    "\n",
    "# 4. Log transform\n",
    "sc.pp.log1p(adata)\n",
    "\n",
    "# 5. Backup log-normalized to .raw (used in many models)\n",
    "adata.raw = adata.copy()\n",
    "\n",
    "# Optional: PCA/UMAP just for visualization\n",
    "sc.pp.pca(adata)\n",
    "sc.pp.neighbors(adata)\n",
    "sc.tl.umap(adata)\n",
    "sc.pl.umap(adata, color=\"n_genes_by_counts\")\n",
    "\n",
    "# 6. Save normalized PBMC data\n",
    "adata.write(output_path)\n",
    "print(f\"✅ Normalized PBMC saved: {output_path}\")\n"
   ]
  },
  {
   "cell_type": "code",
   "execution_count": null,
   "id": "15c8932d-8d67-481d-b96a-4a0228baf07b",
   "metadata": {},
   "outputs": [],
   "source": [
    "adata.write(output_path)"
   ]
  },
  {
   "cell_type": "code",
   "execution_count": null,
   "id": "5f2bdf80-2694-479d-ae08-6aa3b5279855",
   "metadata": {},
   "outputs": [],
   "source": [
    "import scanpy as sc\n",
    "import numpy as np\n",
    "\n",
    "adata = sc.read_h5ad(\"../data/processed/pbmc/pbmc_10k_normalized.h5ad\")\n",
    "\n",
    "# Sample subset\n",
    "adata_sub = adata[np.random.choice(adata.shape[0], 20000, replace=False), :].copy()\n",
    "\n",
    "sc.pp.pca(adata_sub)\n",
    "sc.pp.neighbors(adata_sub)\n",
    "sc.tl.umap(adata_sub)\n",
    "sc.pl.umap(adata_sub, color=\"n_genes_by_counts\")"
   ]
  }
 ],
 "metadata": {
  "kernelspec": {
   "display_name": "Python 3 (ipykernel)",
   "language": "python",
   "name": "python3"
  },
  "language_info": {
   "codemirror_mode": {
    "name": "ipython",
    "version": 3
   },
   "file_extension": ".py",
   "mimetype": "text/x-python",
   "name": "python",
   "nbconvert_exporter": "python",
   "pygments_lexer": "ipython3",
   "version": "3.10.12"
  }
 },
 "nbformat": 4,
 "nbformat_minor": 5
}
